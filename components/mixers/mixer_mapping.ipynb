{
 "cells": [
  {
   "cell_type": "code",
   "execution_count": 1,
   "id": "1c0653ea-7a1d-4150-803a-2c00b4336794",
   "metadata": {},
   "outputs": [
    {
     "name": "stdout",
     "output_type": "stream",
     "text": [
      "Created LMX object wit fosc 320.0\n",
      "Resetting LMX\n",
      "Applying config\n",
      "PRE DIVIDER 2\n",
      "REF MULT 1\n",
      "Is locked:  True\n",
      "FPD is 160.000000 MHz\n"
     ]
    }
   ],
   "source": [
    "import sys\n",
    "import numpy as np\n",
    "import matplotlib.pyplot as plt\n",
    "import time\n",
    "from scipy.signal import find_peaks\n",
    "import scipy.io as sio\n",
    "%matplotlib inline\n",
    "plt.rcParams['figure.figsize'] = [15, 10]\n",
    "\n",
    "\n",
    "sys.path.append(\"gpib_instrument_control/\")\n",
    "import lmx2594cmd\n",
    "import gpib_instrument_control.hp_8569b\n",
    "import gpib_instrument_control.hp_5340a\n",
    "import gpib_instrument_control.pm_1038\n",
    "import gpib_instrument_control.hp_3478a\n",
    "import gpib_instrument_control.wiltron_6659a\n",
    "\n",
    "\n",
    "sp = gpib_instrument_control.hp_8569b.Hp8569B()\n",
    "counter=gpib_instrument_control.hp_5340a.Hp5340A()\n",
    "counter.setResolution(3)\n",
    "powBMeter=gpib_instrument_control.hp_3478a.Hp3478A()\n",
    "pm=gpib_instrument_control.pm_1038.Pm1038(None, powBMeter, bChannelProbeCorrectionFileName='pm11-0674_correctionFactors.mat')\n",
    "gen=gpib_instrument_control.wiltron_6659a.Wiltron6659A()\n",
    "\n",
    "lmx = lmx2594cmd.Lmx2594('/dev/ttyUSB0', 320e6)\n",
    "lmx.enableLockDetect(True)\n",
    "lmx.setField('OUTA_PWR', 10)\n",
    "lmx.setField('OUTB_PWR', 63)"
   ]
  },
  {
   "cell_type": "code",
   "execution_count": 2,
   "id": "0e8a98c7-7ce4-4663-afa5-7f70c53dde87",
   "metadata": {},
   "outputs": [],
   "source": [
    "def rowStack(mtx, vec):\n",
    "    if mtx is None:\n",
    "        mtx=np.array(((vec)))\n",
    "    else:\n",
    "        mtx=np.row_stack((mtx, vec))\n",
    "    return mtx\n",
    "\n",
    "def mtxStack(mtx, vec):\n",
    "    if mtx is None:\n",
    "        mtx=np.array(((vec)))\n",
    "    else:\n",
    "        mtx=np.dstack((mtx, vec))\n",
    "    return mtx\n",
    "\n",
    "def waitForFrequencyToStablizie(approxFrequency, rate=2e6, tries=200):\n",
    "        mt=0.1;\n",
    "        f0=counter.readValue()\n",
    "        t0=time.time();\n",
    "        for i in range(tries):\n",
    "            time.sleep(mt)\n",
    "            f=counter.readValue()\n",
    "            #print(f, np.abs(f-f0)/1e3)\n",
    "            if abs(f-f0)/mt < rate and abs(f-approxFrequency) < 200e6 and f != f0:\n",
    "                break\n",
    "            f0=f\n",
    "        else:\n",
    "            print(\"WARNING: Frequency did not stabilize\")\n",
    "        return f\n",
    "        #print(\"Frequency stabilized after\", time.time()-t0, \"Seconds\")\n",
    "    \n",
    "def sweepLoRf(fif, rfs, tol=40e6, harmonic=1):\n",
    "    #tol=40e6;\n",
    "    peaks=[]\n",
    "    pin=[]\n",
    "    spectrums=None\n",
    "    for rf in rfs:\n",
    "        gen.setCwFreq(rf)\n",
    "        time.sleep(0.5)\n",
    "        rfReal=waitForFrequencyToStablizie(rf)\n",
    "        #rfReal=counter.readValue()\n",
    "        flo=np.abs(rfReal+fif)/harmonic\n",
    "        if flo < 20e6:\n",
    "            flo=20e6\n",
    "        #print(rf/1e6, rfReal/1e6)\n",
    "        \n",
    "        lmx.setFrequency(flo)\n",
    "        sp.updateTrace()\n",
    "        fax, p = sp.readTrace()\n",
    "        fax=np.array(fax)\n",
    "        p=np.array(p)\n",
    "        spectrums = rowStack(spectrums, p)\n",
    "        #print(fax)\n",
    "        indices = np.where(np.logical_and(fax>np.abs(fif)-tol, fax < np.abs(fif)+tol))[0]\n",
    "        #print(tol, indices, fif)\n",
    "        peaks.append(np.max(p[indices]))\n",
    "        pin.append((pm.readChannelB(rfReal)-18))\n",
    "        #print(p[indices])\n",
    "        #print(fax[indices])\n",
    "    return peaks, pin, spectrums, fax\n",
    "        \n",
    "def measureIfFrequency(fif, rfs, plot=True):\n",
    "    peaks, pin = sweepLoRf(fif, rfs)\n",
    "    if plot:\n",
    "        plt.plot(rfs, peaks, label='output')\n",
    "        plt.plot(rfs, pin, label='input')\n",
    "        plt.grid(True)\n",
    "        plt.legend()\n",
    "    return peaks, pin, rfs       \n",
    "\n",
    "def mixerCharacterization(ifs, rfs, mixerName, tol=40e6, harmonic=1):\n",
    "    peakMtx=None\n",
    "    pinMtx=None\n",
    "    lossMtx=None\n",
    "    spectrumCube=None\n",
    "    for fif in ifs:\n",
    "        peaks, inputs, spectrums, fax = sweepLoRf(fif, rfs, tol=tol, harmonic=harmonic)\n",
    "        loss = np.array(inputs)-np.array(peaks)\n",
    "        peakMtx=rowStack(peakMtx, peaks)\n",
    "        pinMtx=rowStack(pinMtx, inputs)\n",
    "        lossMtx=rowStack(lossMtx, loss)\n",
    "        spectrumCube=mtxStack(spectrumCube, spectrums)\n",
    "        #plt.plot(rfs, peaks, label=f'if %.2e [Hz]'%(fif))\n",
    "        #plt.plot(rfs, inputs, label=f'pin %.2e [Hz]'%(fif))\n",
    "        plt.plot(rfs, loss, label=f'IF %.2e [Hz]'%(fif))\n",
    "    \n",
    "    plt.grid(True)\n",
    "    plt.xlabel('RF frequency [Hz]')\n",
    "    plt.ylabel('Mixer loss [dB]')\n",
    "    plt.title(f'Measurement of Mixer %s with average input power %.2f [dBm]'%(mixerName, np.mean(pinMtx)))\n",
    "    plt.legend()\n",
    "    saveDict={'peak':peakMtx, 'pin':pinMtx, 'loss':lossMtx, 'spectrum': spectrumCube, 'fax':fax, 'ifs':ifs, 'rfs':rfs}\n",
    "    sio.savemat(mixerName+'.mat', saveDict)\n",
    "    \n",
    "def mapMixer(los, rfs, name):\n",
    "    t0=time.time()\n",
    "    rfCube=None\n",
    "    rfa=[]\n",
    "    rfpow=[]\n",
    "    for rf in rfs:\n",
    "        gen.setCwFreq(rf)\n",
    "        time.sleep(3)\n",
    "        arf=waitForFrequencyToStablizie(rf, rate=40e3)\n",
    "        rfa.append(arf)\n",
    "        rfpow.append(pm.readChannelB(arf))\n",
    "        lomat=None\n",
    "        for lo in los:\n",
    "            lmx.setFrequency(lo)\n",
    "            sp.updateTrace()\n",
    "            fax, p = sp.readTrace()\n",
    "            lomat=rowStack(lomat, p)\n",
    "        rfCube=mtxStack(rfCube, lomat)\n",
    "    saveDict={'if_axis':fax, 'rf_axis':rfa, 'lo_axis':los, 'rf_power':rfpow, 'dat':rfCube}\n",
    "    sio.savemat(name+'.mat', saveDict)\n",
    "    print(\"Total time\", time.time()-t0)\n",
    "    \n",
    "        "
   ]
  },
  {
   "cell_type": "code",
   "execution_count": 37,
   "id": "8b72cd44-5d26-4d00-8806-c60ca13d5e14",
   "metadata": {},
   "outputs": [
    {
     "name": "stdout",
     "output_type": "stream",
     "text": [
      "Total time 1548.755337715149\n"
     ]
    }
   ],
   "source": [
    "flo=np.linspace(50e6, 4e9, 25);\n",
    "frf=np.linspace(50e6, 8e9, 50)\n",
    "mapMixer(flo, frf, 'zem_4300_low_band')"
   ]
  },
  {
   "cell_type": "code",
   "execution_count": 40,
   "id": "62936c40-7d72-483a-8cd4-1ceeb1bb938d",
   "metadata": {},
   "outputs": [
    {
     "name": "stdout",
     "output_type": "stream",
     "text": [
      "Total time 5232.677988529205\n"
     ]
    }
   ],
   "source": [
    "flo=np.linspace(50e6, 4e9, 50);\n",
    "frf=np.linspace(50e6, 8e9, 100)\n",
    "mapMixer(flo, frf, 'zem_4300_low_band_hd')"
   ]
  },
  {
   "cell_type": "code",
   "execution_count": 39,
   "id": "3a47fde4-47b0-462c-a417-1d4f6adebb71",
   "metadata": {},
   "outputs": [
    {
     "name": "stdout",
     "output_type": "stream",
     "text": [
      "Total time 2726.8662507534027\n"
     ]
    }
   ],
   "source": [
    "flo=np.linspace(50e6, 4e9, 25);\n",
    "frf=np.linspace(50e6, 8e9, 50)\n",
    "mapMixer(flo, frf, 'zem_4300_high_band')"
   ]
  },
  {
   "cell_type": "code",
   "execution_count": 43,
   "id": "a2383a40-02ed-4e76-a725-15e09af1a5a9",
   "metadata": {},
   "outputs": [
    {
     "name": "stdout",
     "output_type": "stream",
     "text": [
      "Total time 10025.18508720398\n"
     ]
    }
   ],
   "source": [
    "flo=np.linspace(50e6, 4e9, 50);\n",
    "frf=np.linspace(50e6, 8e9, 100)\n",
    "mapMixer(flo, frf, 'zem_4300_high_band_hd')"
   ]
  },
  {
   "cell_type": "code",
   "execution_count": 10,
   "id": "23d858dd-54a7-4649-a749-f8961cb7763d",
   "metadata": {},
   "outputs": [
    {
     "name": "stdout",
     "output_type": "stream",
     "text": [
      "Total time 2120.732891559601\n"
     ]
    }
   ],
   "source": [
    "flo=np.linspace(50e6, 4e9, 25);\n",
    "frf=np.linspace(50e6, 8e9, 50)\n",
    "mapMixer(flo, frf, 'zem_4300_low_band_linear')"
   ]
  },
  {
   "cell_type": "code",
   "execution_count": 11,
   "id": "26a8c6e1-849d-4209-ae6c-cd0dbbe3067b",
   "metadata": {},
   "outputs": [
    {
     "name": "stdout",
     "output_type": "stream",
     "text": [
      "Total time 2668.0830183029175\n"
     ]
    }
   ],
   "source": [
    "flo=np.linspace(50e6, 4e9, 25);\n",
    "frf=np.linspace(50e6, 8e9, 50)\n",
    "mapMixer(flo, frf, 'zem_4300_high_band_linear')"
   ]
  },
  {
   "cell_type": "code",
   "execution_count": 12,
   "id": "fbcaf76d-cae1-4952-b822-ef46f242bfef",
   "metadata": {},
   "outputs": [
    {
     "name": "stdout",
     "output_type": "stream",
     "text": [
      "Total time 2072.22514295578\n"
     ]
    }
   ],
   "source": [
    "flo=np.linspace(50e6, 4e9, 25);\n",
    "frf=np.linspace(50e6, 8e9, 50)\n",
    "mapMixer(flo, frf, 'zem_4300_low_band_linear_2')"
   ]
  },
  {
   "cell_type": "code",
   "execution_count": 13,
   "id": "f8f6d117-c670-4bb8-bec1-d1b01670cf38",
   "metadata": {},
   "outputs": [
    {
     "name": "stdout",
     "output_type": "stream",
     "text": [
      "Total time 2081.7983028888702\n"
     ]
    }
   ],
   "source": [
    "flo=np.linspace(50e6, 4e9, 25);\n",
    "frf=np.linspace(50e6, 8e9, 50)\n",
    "mapMixer(flo, frf, 'zem_4300_low_band_linear_3')"
   ]
  },
  {
   "cell_type": "code",
   "execution_count": 17,
   "id": "a410b4f8-e2b3-4cdd-aeba-59c2704c4834",
   "metadata": {},
   "outputs": [
    {
     "name": "stdout",
     "output_type": "stream",
     "text": [
      "Total time 2661.5643322467804\n"
     ]
    }
   ],
   "source": [
    "flo=np.linspace(50e6, 4e9, 25);\n",
    "frf=np.linspace(50e6, 8e9, 50)\n",
    "mapMixer(flo, frf, 'zem_4300_high_band_linear_2')"
   ]
  },
  {
   "cell_type": "code",
   "execution_count": 18,
   "id": "9e1060e3-4ffb-4b5b-b1a9-d84817cd66c4",
   "metadata": {},
   "outputs": [
    {
     "name": "stdout",
     "output_type": "stream",
     "text": [
      "Total time 2668.204257965088\n"
     ]
    }
   ],
   "source": [
    "flo=np.linspace(50e6, 4e9, 25);\n",
    "frf=np.linspace(50e6, 8e9, 50)\n",
    "mapMixer(flo, frf, 'zem_4300_high_band_linear_3')"
   ]
  },
  {
   "cell_type": "code",
   "execution_count": 19,
   "id": "3d6a4622-0f3c-43bd-8f6e-99da2d399067",
   "metadata": {},
   "outputs": [
    {
     "name": "stdout",
     "output_type": "stream",
     "text": [
      "Total time 2112.8507566452026\n"
     ]
    }
   ],
   "source": [
    "flo=np.linspace(50e6, 4e9, 25);\n",
    "frf=np.linspace(50e6, 8e9, 50)\n",
    "mapMixer(flo, frf, 'm80lca_low_band_30dB')"
   ]
  },
  {
   "cell_type": "code",
   "execution_count": 20,
   "id": "2cf3efac-69ba-42de-930f-a09ddf6e389f",
   "metadata": {},
   "outputs": [
    {
     "name": "stdout",
     "output_type": "stream",
     "text": [
      "Total time 2667.163138151169\n"
     ]
    }
   ],
   "source": [
    "flo=np.linspace(50e6, 4e9, 25);\n",
    "frf=np.linspace(50e6, 8e9, 50)\n",
    "mapMixer(flo, frf, 'm80lca_high_band_30dB')"
   ]
  },
  {
   "cell_type": "code",
   "execution_count": 21,
   "id": "4cec38d6-e8fa-459a-9c3f-fa5bb9b1fa92",
   "metadata": {},
   "outputs": [
    {
     "name": "stdout",
     "output_type": "stream",
     "text": [
      "Total time 1473.7778043746948\n"
     ]
    }
   ],
   "source": [
    "flo=np.linspace(50e6, 4e9, 25);\n",
    "frf=np.linspace(50e6, 8e9, 50)\n",
    "mapMixer(flo, frf, 'ML7510_low_band_30dB')"
   ]
  },
  {
   "cell_type": "code",
   "execution_count": 22,
   "id": "89cfc7e2-45af-4e8e-9323-e508065871cb",
   "metadata": {},
   "outputs": [
    {
     "name": "stdout",
     "output_type": "stream",
     "text": [
      "Total time 2664.4784145355225\n"
     ]
    }
   ],
   "source": [
    "flo=np.linspace(50e6, 4e9, 25);\n",
    "frf=np.linspace(50e6, 8e9, 50)\n",
    "mapMixer(flo, frf, 'ML7510_high_band_30dB')"
   ]
  },
  {
   "cell_type": "code",
   "execution_count": 6,
   "id": "b8f331a3-d567-4ad3-9bc5-5c332f9118d7",
   "metadata": {},
   "outputs": [
    {
     "name": "stdout",
     "output_type": "stream",
     "text": [
      "Total time 1468.2395315170288\n"
     ]
    }
   ],
   "source": [
    "flo=np.linspace(50e6, 4e9, 25);\n",
    "frf=np.linspace(50e6, 8e9, 50)\n",
    "mapMixer(flo, frf, 'ML7510_low_band_40dB')"
   ]
  },
  {
   "cell_type": "code",
   "execution_count": 7,
   "id": "b0cab754-4985-42b7-b10c-a7c27845f6f9",
   "metadata": {
    "tags": []
   },
   "outputs": [
    {
     "name": "stdout",
     "output_type": "stream",
     "text": [
      "Total time 2671.9553158283234\n"
     ]
    }
   ],
   "source": [
    "flo=np.linspace(50e6, 4e9, 25);\n",
    "frf=np.linspace(50e6, 8e9, 50)\n",
    "mapMixer(flo, frf, 'ML7510_high_band_40dB')"
   ]
  },
  {
   "cell_type": "code",
   "execution_count": 5,
   "id": "cd7e39fe-b3ad-45e2-9bd1-15f6814b9fdf",
   "metadata": {},
   "outputs": [
    {
     "name": "stdout",
     "output_type": "stream",
     "text": [
      "Total time 5826.352819919586\n"
     ]
    }
   ],
   "source": [
    "flo=np.linspace(50e6, 15e9, 50);\n",
    "frf=np.linspace(50e6, 24e9, 75)\n",
    "mapMixer(flo, frf, 'ML7510_low_band_40dB_full_freq')"
   ]
  },
  {
   "cell_type": "code",
   "execution_count": 4,
   "id": "780824ca-4335-4785-a913-e5015fa746c3",
   "metadata": {
    "tags": []
   },
   "outputs": [
    {
     "name": "stdout",
     "output_type": "stream",
     "text": [
      "Total time 7543.985810756683\n"
     ]
    }
   ],
   "source": [
    "flo=np.linspace(50e6, 15e9, 50);\n",
    "frf=np.linspace(50e6, 24e9, 75)\n",
    "mapMixer(flo, frf, 'ML7510_high_band_40dB_full_freq')"
   ]
  },
  {
   "cell_type": "code",
   "execution_count": 4,
   "id": "fe0fa8ec-313b-472b-8782-b0ec60087383",
   "metadata": {},
   "outputs": [
    {
     "name": "stdout",
     "output_type": "stream",
     "text": [
      "Total time 5849.017115831375\n"
     ]
    }
   ],
   "source": [
    "flo=np.linspace(50e6, 15e9, 50);\n",
    "frf=np.linspace(50e6, 24e9, 75)\n",
    "mapMixer(flo, frf, 'ML7510_low_band_30dB_full_freq')"
   ]
  },
  {
   "cell_type": "code",
   "execution_count": 8,
   "id": "014b3fad-0ef3-4a3b-83c2-e24eed8c7a96",
   "metadata": {},
   "outputs": [
    {
     "name": "stdout",
     "output_type": "stream",
     "text": [
      "Total time 7490.033018827438\n"
     ]
    }
   ],
   "source": [
    "flo=np.linspace(50e6, 15e9, 50);\n",
    "frf=np.linspace(50e6, 24e9, 75)\n",
    "mapMixer(flo, frf, 'ML7510_high_band_30dB_full_freq')"
   ]
  },
  {
   "cell_type": "code",
   "execution_count": 3,
   "id": "8c565e6f-d651-47c4-9789-e6897ee1345b",
   "metadata": {},
   "outputs": [
    {
     "name": "stdout",
     "output_type": "stream",
     "text": [
      "Total time 5840.506727695465\n"
     ]
    }
   ],
   "source": [
    "flo=np.linspace(50e6, 15e9, 50);\n",
    "frf=np.linspace(50e6, 24e9, 75)\n",
    "mapMixer(flo, frf, 'MZ9310C_low_band_30dB')"
   ]
  },
  {
   "cell_type": "code",
   "execution_count": 4,
   "id": "754d05fd-d941-4cc0-8783-03cda20c07ae",
   "metadata": {},
   "outputs": [
    {
     "name": "stdout",
     "output_type": "stream",
     "text": [
      "Total time 7504.961650848389\n"
     ]
    }
   ],
   "source": [
    "flo=np.linspace(50e6, 15e9, 50);\n",
    "frf=np.linspace(50e6, 24e9, 75)\n",
    "mapMixer(flo, frf, 'MZ9310C_high_band_30dB')"
   ]
  },
  {
   "cell_type": "code",
   "execution_count": 5,
   "id": "ad510055-9edc-42f4-b669-4f4bf9adcdf2",
   "metadata": {},
   "outputs": [
    {
     "name": "stdout",
     "output_type": "stream",
     "text": [
      "Total time 5814.74699473381\n"
     ]
    }
   ],
   "source": [
    "flo=np.linspace(50e6, 15e9, 50);\n",
    "frf=np.linspace(50e6, 24e9, 75)\n",
    "mapMixer(flo, frf, 'MZ9310C_reversed_low_band_30dB')"
   ]
  },
  {
   "cell_type": "code",
   "execution_count": 3,
   "id": "cae81e8a-d6ab-43fe-8053-4f976dea17e2",
   "metadata": {},
   "outputs": [
    {
     "name": "stdout",
     "output_type": "stream",
     "text": [
      "Total time 7509.598717689514\n"
     ]
    }
   ],
   "source": [
    "flo=np.linspace(50e6, 15e9, 50);\n",
    "frf=np.linspace(50e6, 24e9, 75)\n",
    "mapMixer(flo, frf, 'MZ9310C_reversed_high_band_30dB')"
   ]
  },
  {
   "cell_type": "code",
   "execution_count": 3,
   "id": "7456d585-a77d-45cb-b321-a39bc75c5bdf",
   "metadata": {},
   "outputs": [
    {
     "name": "stdout",
     "output_type": "stream",
     "text": [
      "Total time 5871.873273134232\n"
     ]
    }
   ],
   "source": [
    "flo=np.linspace(50e6, 15e9, 50);\n",
    "frf=np.linspace(50e6, 24e9, 75)\n",
    "mapMixer(flo, frf, 'XMM302_low_band_30dB')"
   ]
  },
  {
   "cell_type": "code",
   "execution_count": 5,
   "id": "b801f438-3964-42a4-8f66-2edc9f79a19b",
   "metadata": {},
   "outputs": [
    {
     "name": "stdout",
     "output_type": "stream",
     "text": [
      "Total time 7531.406903028488\n"
     ]
    }
   ],
   "source": [
    "flo=np.linspace(50e6, 15e9, 50);\n",
    "frf=np.linspace(50e6, 24e9, 75)\n",
    "mapMixer(flo, frf, 'XMM302_high_band_30dB')"
   ]
  },
  {
   "cell_type": "code",
   "execution_count": 3,
   "id": "5962a172-897e-4240-ba04-5b8c5be32114",
   "metadata": {},
   "outputs": [
    {
     "name": "stdout",
     "output_type": "stream",
     "text": [
      "Total time 3902.6397874355316\n"
     ]
    }
   ],
   "source": [
    "flo=np.linspace(50e6, 15e9, 50);\n",
    "frf=np.linspace(50e6, 18e9, 50)\n",
    "mapMixer(flo, frf, 'AT020_low_band_30dB')"
   ]
  },
  {
   "cell_type": "code",
   "execution_count": 6,
   "id": "1a04945f-cc5e-4121-ace2-807da3bb8b66",
   "metadata": {},
   "outputs": [
    {
     "name": "stdout",
     "output_type": "stream",
     "text": [
      "Total time 5006.039218187332\n"
     ]
    }
   ],
   "source": [
    "flo=np.linspace(50e6, 15e9, 50);\n",
    "frf=np.linspace(50e6, 18e9, 50)\n",
    "mapMixer(flo, frf, 'AT020_high_band_30dB')"
   ]
  },
  {
   "cell_type": "code",
   "execution_count": 3,
   "id": "484d6ff0-b483-4da5-a0c0-6e747f90fd0d",
   "metadata": {},
   "outputs": [
    {
     "name": "stdout",
     "output_type": "stream",
     "text": [
      "Total time 5857.159181594849\n"
     ]
    }
   ],
   "source": [
    "flo=np.linspace(50e6, 15e9, 50);\n",
    "frf=np.linspace(50e6, 24e9, 75)\n",
    "mapMixer(flo, frf, 'AT020_low_band_30dB_full_freq')"
   ]
  },
  {
   "cell_type": "code",
   "execution_count": 7,
   "id": "781069ab-48ba-4b8b-891d-e9420aa636c3",
   "metadata": {},
   "outputs": [
    {
     "name": "stdout",
     "output_type": "stream",
     "text": [
      "Total time 7516.929668426514\n"
     ]
    }
   ],
   "source": [
    "flo=np.linspace(50e6, 15e9, 50);\n",
    "frf=np.linspace(50e6, 24e9, 75)\n",
    "mapMixer(flo, frf, 'AT020_high_band_30dB_full_freq')"
   ]
  },
  {
   "cell_type": "code",
   "execution_count": 4,
   "id": "9088351e-7a23-4fd5-96b3-65743a2d46d9",
   "metadata": {},
   "outputs": [
    {
     "name": "stdout",
     "output_type": "stream",
     "text": [
      "Total time 5888.988615989685\n"
     ]
    }
   ],
   "source": [
    "flo=np.linspace(50e6, 15e9, 50);\n",
    "frf=np.linspace(50e6, 24e9, 75)\n",
    "mapMixer(flo, frf, '73129_low_band_30dB')"
   ]
  },
  {
   "cell_type": "code",
   "execution_count": 3,
   "id": "6ab411d3-acdd-4c6c-9a2c-191b62a24bc8",
   "metadata": {},
   "outputs": [
    {
     "name": "stdout",
     "output_type": "stream",
     "text": [
      "Total time 7500.187081336975\n"
     ]
    }
   ],
   "source": [
    "flo=np.linspace(50e6, 15e9, 50);\n",
    "frf=np.linspace(50e6, 24e9, 75)\n",
    "mapMixer(flo, frf, '73129_high_band_30dB')"
   ]
  },
  {
   "cell_type": "code",
   "execution_count": 5,
   "id": "ea502153-0c8f-43ee-9a05-aa050b302cef",
   "metadata": {},
   "outputs": [
    {
     "name": "stdout",
     "output_type": "stream",
     "text": [
      "Total time 5850.0993003845215\n"
     ]
    }
   ],
   "source": [
    "flo=np.linspace(50e6, 15e9, 50);\n",
    "frf=np.linspace(50e6, 24e9, 75)\n",
    "mapMixer(flo, frf, 'hp10514A_low_band_30dB')"
   ]
  },
  {
   "cell_type": "code",
   "execution_count": 7,
   "id": "f7c8a0f5-a0c2-4a68-a3a0-9e07072e1e71",
   "metadata": {},
   "outputs": [
    {
     "name": "stdout",
     "output_type": "stream",
     "text": [
      "Total time 7472.746308088303\n"
     ]
    }
   ],
   "source": [
    "flo=np.linspace(50e6, 15e9, 50);\n",
    "frf=np.linspace(50e6, 24e9, 75)\n",
    "mapMixer(flo, frf, 'hp10514A_high_band_30dB')"
   ]
  }
 ],
 "metadata": {
  "kernelspec": {
   "display_name": "Python 3",
   "language": "python",
   "name": "python3"
  },
  "language_info": {
   "codemirror_mode": {
    "name": "ipython",
    "version": 3
   },
   "file_extension": ".py",
   "mimetype": "text/x-python",
   "name": "python",
   "nbconvert_exporter": "python",
   "pygments_lexer": "ipython3",
   "version": "3.8.10"
  }
 },
 "nbformat": 4,
 "nbformat_minor": 5
}
